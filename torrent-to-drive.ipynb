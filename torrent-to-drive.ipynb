{
    "cells": [
        {
            "cell_type": "markdown",
            "metadata": {
                "colab_type": "text",
                "id": "view-in-github"
            },
            "source": [
                "<a href=\"https://colab.research.google.com/github/Prashant-1695/torrent_to_drive/blob/master/torrent-to-drive.ipynb\" target=\"_parent\"><img src=\"https://colab.research.google.com/assets/colab-badge.svg\" alt=\"Open In Colab\"/></a>"
            ]
        },
        {
            "cell_type": "markdown",
            "metadata": {
                "colab_type": "text",
                "id": "aQuWDmfm9YOi"
            },
            "source": [
                "# Torrent To Google Drive Downloader "
            ]
        },
        {
            "cell_type": "markdown",
            "metadata": {
                "colab_type": "text",
                "id": "Uf90U73y9YOj"
            },
            "source": [
                "### Mount Google Drive\n",
                "To stream files we need to mount Google Drive."
            ]
        },
        {
            "cell_type": "code",
            "execution_count": 0,
            "metadata": {
                "colab": {},
                "colab_type": "code",
                "id": "oWM9l2fvtuvO"
            },
            "outputs": [],
            "source": [
                "from google.colab import drive\n",
                "\n",
                "drive.mount(\"/content/drive\")"
            ]
        },
        {
            "cell_type": "markdown",
            "metadata": {
                "colab_type": "text",
                "id": "NaFa7M-e9YOr"
            },
            "source": [
                "### Install libtorrent, Initialize Session & File destination"
            ]
        },
        {
            "cell_type": "code",
            "execution_count": 0,
            "metadata": {
                "colab": {},
                "colab_type": "code",
                "id": "m6hF0emftx4h"
            },
            "outputs": [],
            "source": [
                "!apt install python3-libtorrent\n",
                "\n",
                "import libtorrent as lt\n",
                "import time\n",
                "import datetime\n",
                "\n",
                "ses = lt.session()\n",
                "ses.listen_on(6881, 6891)\n",
                "\n",
                "params = {\n",
                "    \"save_path\": \"/content/drive/My Drive/Torrent\",\n",
                "    \"storage_mode\": lt.storage_mode_t(2),\n",
                "    \"paused\": False,\n",
                "    \"auto_managed\": True,\n",
                "    \"duplicate_is_error\": True}"
            ]
        },
        {
            "cell_type": "markdown",
            "metadata": {
                "colab_type": "text",
                "id": "WD-6M6eZyzmj"
            },
            "source": [
                "### Magnet Link Goes Here\n"
            ]
        },
        {
            "cell_type": "code",
            "execution_count": 0,
            "metadata": {
                "colab": {},
                "colab_type": "code",
                "id": "Cwi1GMlxy3te"
            },
            "outputs": [],
            "source": [
                "link = \"YOUR MAGNET LINK HERE \"\n",
                "\n",
                "# Create add_torrent_params object and set the magnet link as url\n",
                "print(link)\n",
                "params = lt.add_torrent_params()\n",
                "params.save_path = \"/content/drive/My Drive/Torrent\"\n",
                "params.storage_mode = lt.storage_mode_t(2)\n",
                "params.url = link"
            ]
        },
        {
            "cell_type": "markdown",
            "metadata": {
                "colab_type": "text",
                "id": "m-a1CUP39YOu"
            },
            "source": [
                "### Start Download\n"
            ]
        },
        {
            "cell_type": "code",
            "execution_count": 0,
            "metadata": {
                "colab": {},
                "colab_type": "code",
                "id": "DBNoYYoSuDBT"
            },
            "outputs": [],
            "source": [
                "# Add the torrent to the session\n",
                "handle = ses.add_torrent(params)\n",
                "\n",
                "begin = time.time()\n",
                "print(datetime.datetime.now())\n",
                "\n",
                "print('Downloading Metadata...')\n",
                "while (not handle.has_metadata()):\n",
                "    time.sleep(1)\n",
                "print('MataData Imported, Attempting Download')\n",
                "\n",
                "print(\"Starting, Please Wait\", handle.name())\n",
                "# Print download progress\n",
                "while (handle.status().state != lt.torrent_status.seeding):\n",
                "    s = handle.status() # Indented this line to be inside the while loop\n",
                "    state_str = [\n",
                "        \"queued\",\n",
                "        \"checking\",\n",
                "        \"downloading metadata\",\n",
                "        \"downloading\",\n",
                "        \"finished\",\n",
                "        \"seeding\",\n",
                "        \"allocating\",\n",
                "        \"checking fastresume\",\n",
                "    ]\n",
                "    print('%.2f%% complete (down: %.1f kb/s up: %.1f kB/s peers: %d) %s ' % \n",
                "    (s.progress * 100, s.download_rate / 1000, s.upload_rate / 1000, \n",
                "    s.num_peers, state_str[s.state]))\n",
                "    time.sleep(5) # Indented this line to be inside the while loop\n",
                "\n",
                "\n",
                "end = time.time()\n",
                "print(handle.name(), \"COMPLETE, Go to the Drive to Find the Downloaded File \")\n",
                "\n",
                "# Print elapsed time\n",
                "print(\"Elapsed Time: \", int((end - begin) // 60), \"min :\", int((end - begin) % 60), \"sec\")\n",
                "print(\"Closing Session, Come Back Again\")\n",
                "print(datetime.datetime.now)"
            ]
        }
    ],
    "metadata": {
        "colab": {
            "collapsed_sections": [],
            "include_colab_link": true,
            "name": "Torrent To Google Drive Downloader",
            "provenance": []
        },
        "kernelspec": {
            "display_name": "Python 3 (ipykernel)",
            "language": "python",
            "name": "python3"
        },
        "language_info": {
            "codemirror_mode": {
                "name": "ipython",
                "version": 3
            },
            "file_extension": ".py",
            "mimetype": "text/x-python",
            "name": "python",
            "nbconvert_exporter": "python",
            "pygments_lexer": "ipython3",
            "version": "3.9.7"
        }
    },
    "nbformat": 4,
    "nbformat_minor": 1
}
